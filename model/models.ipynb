{
 "cells": [
  {
   "cell_type": "markdown",
   "id": "88b152e8-b6c5-4504-b2a9-5aa6669cf7ec",
   "metadata": {},
   "source": [
    "# Model Selection and Evaluation"
   ]
  },
  {
   "cell_type": "markdown",
   "id": "86520e8d-fbc0-4b70-8e7c-c3ae14a7c479",
   "metadata": {},
   "source": [
    "---"
   ]
  },
  {
   "cell_type": "markdown",
   "id": "5bf95ee9-b4e8-4456-962c-3efb78bf5b77",
   "metadata": {},
   "source": [
    "## Logistic Regression"
   ]
  },
  {
   "cell_type": "code",
   "execution_count": 1,
   "id": "6899da1f-0ad8-4abb-ae57-aa78bef08ea9",
   "metadata": {},
   "outputs": [],
   "source": [
    "import numpy as np\n",
    "import joblib\n",
    "from sklearn.linear_model import LogisticRegression\n",
    "from sklearn.ensemble import RandomForestClassifier\n",
    "from sklearn.model_selection import cross_val_score\n",
    "from sklearn import metrics\n",
    "from sklearn.model_selection import GridSearchCV"
   ]
  },
  {
   "cell_type": "code",
   "execution_count": 2,
   "id": "c70ac79a-ed88-489b-9b41-54474c7b47d3",
   "metadata": {},
   "outputs": [],
   "source": [
    "#load prepared dataset from notebook\n",
    "loan_prepared = np.loadtxt('loan_prepared.txt')\n",
    "loan_labels = np.loadtxt('loan_labels.txt')"
   ]
  },
  {
   "cell_type": "code",
   "execution_count": 3,
   "id": "a83367b0-f10d-434e-8d65-0ef220cb99f1",
   "metadata": {},
   "outputs": [],
   "source": [
    "#load logistic regression model\n",
    "log_reg = LogisticRegression()"
   ]
  },
  {
   "cell_type": "code",
   "execution_count": 4,
   "id": "93fb3077-c537-410b-8159-9cc4c601867d",
   "metadata": {},
   "outputs": [
    {
     "data": {
      "text/plain": [
       "LogisticRegression()"
      ]
     },
     "execution_count": 4,
     "metadata": {},
     "output_type": "execute_result"
    }
   ],
   "source": [
    "#fit model onto data\n",
    "log_reg.fit(loan_prepared, loan_labels)"
   ]
  },
  {
   "cell_type": "code",
   "execution_count": 5,
   "id": "6b92f3eb-d1ce-47f9-b27a-3588e79fab96",
   "metadata": {},
   "outputs": [
    {
     "data": {
      "text/plain": [
       "array([0.94952681, 0.94285714, 0.94585987, 0.93533123, 0.93512658,\n",
       "       0.94015748, 0.94285714, 0.94536817, 0.94071146, 0.94043887])"
      ]
     },
     "execution_count": 5,
     "metadata": {},
     "output_type": "execute_result"
    }
   ],
   "source": [
    "#calculate scores of predictions using cross validation\n",
    "loan_predictions = log_reg.predict(loan_prepared)\n",
    "scores = cross_val_score(log_reg, loan_prepared, loan_labels, cv=10, scoring=\"f1\")\n",
    "scores"
   ]
  },
  {
   "cell_type": "code",
   "execution_count": 6,
   "id": "e2b6ab37-f4e3-45fe-aaac-d56fac10b37e",
   "metadata": {},
   "outputs": [
    {
     "data": {
      "text/plain": [
       "0.9418234770028555"
      ]
     },
     "execution_count": 6,
     "metadata": {},
     "output_type": "execute_result"
    }
   ],
   "source": [
    "#f1 score mean\n",
    "scores.mean()"
   ]
  },
  {
   "cell_type": "code",
   "execution_count": 7,
   "id": "c059fcf1-b00e-42a9-83a6-c27e52c5d78b",
   "metadata": {},
   "outputs": [
    {
     "name": "stdout",
     "output_type": "stream",
     "text": [
      "              precision    recall  f1-score   support\n",
      "\n",
      "         0.0       0.83      0.65      0.73      1496\n",
      "         1.0       0.92      0.97      0.94      6166\n",
      "\n",
      "    accuracy                           0.90      7662\n",
      "   macro avg       0.87      0.81      0.83      7662\n",
      "weighted avg       0.90      0.90      0.90      7662\n",
      "\n"
     ]
    }
   ],
   "source": [
    "print(metrics.classification_report(loan_labels, loan_predictions))"
   ]
  },
  {
   "cell_type": "code",
   "execution_count": 8,
   "id": "b4b0b42c-08dd-44e9-bea3-e6c776492f2b",
   "metadata": {},
   "outputs": [
    {
     "name": "stdout",
     "output_type": "stream",
     "text": [
      "f1 score:  0.9418234770028555\n"
     ]
    }
   ],
   "source": [
    "print(\"f1 score: \", scores.mean())"
   ]
  },
  {
   "cell_type": "markdown",
   "id": "52b38d9f-4168-4908-9bcf-72c5f2c79f3d",
   "metadata": {},
   "source": [
    "---"
   ]
  },
  {
   "cell_type": "markdown",
   "id": "345ee72b-938b-486f-864d-0d9ae7b404ae",
   "metadata": {},
   "source": [
    "## Random Forest Classifier"
   ]
  },
  {
   "cell_type": "code",
   "execution_count": 9,
   "id": "29ec4d5a-1a8a-451b-a823-a5bbee2a93c7",
   "metadata": {},
   "outputs": [],
   "source": [
    "#load random forest classifier model\n",
    "rfc = RandomForestClassifier(n_estimators=100, max_features='sqrt')"
   ]
  },
  {
   "cell_type": "code",
   "execution_count": 10,
   "id": "c89f2a9d-37b8-42d9-ae6b-f2bbedf52a11",
   "metadata": {},
   "outputs": [
    {
     "data": {
      "text/plain": [
       "RandomForestClassifier(max_features='sqrt')"
      ]
     },
     "execution_count": 10,
     "metadata": {},
     "output_type": "execute_result"
    }
   ],
   "source": [
    "#fit model onto data\n",
    "rfc.fit(loan_prepared, loan_labels)"
   ]
  },
  {
   "cell_type": "code",
   "execution_count": 11,
   "id": "77cb5f63-599f-400a-be7d-69dc2cf8593b",
   "metadata": {},
   "outputs": [
    {
     "data": {
      "text/plain": [
       "array([0.98955823, 0.99274778, 0.99595142, 0.99515347, 0.99112187,\n",
       "       0.99193548, 0.99190939, 0.99675325, 0.99273608, 0.99112187])"
      ]
     },
     "execution_count": 11,
     "metadata": {},
     "output_type": "execute_result"
    }
   ],
   "source": [
    "#calculate socres of predcitions using cross validation\n",
    "loan_predictions = rfc.predict(loan_prepared)\n",
    "scores = cross_val_score(rfc, loan_prepared, loan_labels, cv=10, scoring=\"f1\")\n",
    "scores"
   ]
  },
  {
   "cell_type": "code",
   "execution_count": 12,
   "id": "e1b926a3-ae05-4185-b216-2376d66540ba",
   "metadata": {},
   "outputs": [
    {
     "data": {
      "text/plain": [
       "0.9928988845499938"
      ]
     },
     "execution_count": 12,
     "metadata": {},
     "output_type": "execute_result"
    }
   ],
   "source": [
    "#f1 score mean\n",
    "scores.mean()"
   ]
  },
  {
   "cell_type": "code",
   "execution_count": 13,
   "id": "238e9d23-3d89-4e9d-89ce-d8c86bd97435",
   "metadata": {},
   "outputs": [
    {
     "name": "stdout",
     "output_type": "stream",
     "text": [
      "              precision    recall  f1-score   support\n",
      "\n",
      "         0.0       1.00      1.00      1.00      1496\n",
      "         1.0       1.00      1.00      1.00      6166\n",
      "\n",
      "    accuracy                           1.00      7662\n",
      "   macro avg       1.00      1.00      1.00      7662\n",
      "weighted avg       1.00      1.00      1.00      7662\n",
      "\n"
     ]
    }
   ],
   "source": [
    "print(metrics.classification_report(loan_labels, loan_predictions))"
   ]
  },
  {
   "cell_type": "code",
   "execution_count": 14,
   "id": "6ce7f51f-deba-4a2c-b0ca-c620bf9239b8",
   "metadata": {},
   "outputs": [
    {
     "data": {
      "text/plain": [
       "GridSearchCV(cv=10, estimator=RandomForestClassifier(max_features='sqrt'),\n",
       "             param_grid={'max_features': ['auto', 'sqrt', 'log2'],\n",
       "                         'n_estimators': [50, 100, 150]},\n",
       "             scoring='f1')"
      ]
     },
     "execution_count": 14,
     "metadata": {},
     "output_type": "execute_result"
    }
   ],
   "source": [
    "#tune hyperparameters using grid search\n",
    "param_grid = {'n_estimators': [50, 100, 150],'max_features': ['auto', 'sqrt', 'log2']}\n",
    "grid_search = GridSearchCV(estimator=rfc, param_grid=param_grid, cv= 10, scoring=\"f1\")\n",
    "grid_search.fit(loan_prepared, loan_labels)"
   ]
  },
  {
   "cell_type": "code",
   "execution_count": 15,
   "id": "1f0e14f8-0279-43fc-b83a-cf9e6ef5394f",
   "metadata": {},
   "outputs": [
    {
     "data": {
      "text/plain": [
       "RandomForestClassifier(max_features='log2', n_estimators=150)"
      ]
     },
     "execution_count": 15,
     "metadata": {},
     "output_type": "execute_result"
    }
   ],
   "source": [
    "#find best hyperparameters\n",
    "grid_search.best_estimator_"
   ]
  },
  {
   "cell_type": "code",
   "execution_count": 16,
   "id": "0556f4d0-1d50-4416-b8cf-05058ab98ebd",
   "metadata": {},
   "outputs": [
    {
     "name": "stdout",
     "output_type": "stream",
     "text": [
      "f1 score:  0.9929784195100145\n"
     ]
    }
   ],
   "source": [
    "#mean f1 score after tuning\n",
    "print(\"f1 score: \", grid_search.cv_results_['mean_test_score'].max())"
   ]
  }
 ],
 "metadata": {
  "kernelspec": {
   "display_name": "Python 3 (ipykernel)",
   "language": "python",
   "name": "python3"
  },
  "language_info": {
   "codemirror_mode": {
    "name": "ipython",
    "version": 3
   },
   "file_extension": ".py",
   "mimetype": "text/x-python",
   "name": "python",
   "nbconvert_exporter": "python",
   "pygments_lexer": "ipython3",
   "version": "3.8.11"
  }
 },
 "nbformat": 4,
 "nbformat_minor": 5
}
