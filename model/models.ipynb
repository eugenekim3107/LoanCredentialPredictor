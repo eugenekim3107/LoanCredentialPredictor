{
 "cells": [
  {
   "cell_type": "markdown",
   "id": "88b152e8-b6c5-4504-b2a9-5aa6669cf7ec",
   "metadata": {},
   "source": [
    "# Model Selection and Evaluation"
   ]
  },
  {
   "cell_type": "markdown",
   "id": "86520e8d-fbc0-4b70-8e7c-c3ae14a7c479",
   "metadata": {},
   "source": [
    "---"
   ]
  },
  {
   "cell_type": "markdown",
   "id": "5bf95ee9-b4e8-4456-962c-3efb78bf5b77",
   "metadata": {},
   "source": [
    "## Logistic Regression"
   ]
  },
  {
   "cell_type": "code",
   "execution_count": 1,
   "id": "6899da1f-0ad8-4abb-ae57-aa78bef08ea9",
   "metadata": {},
   "outputs": [],
   "source": [
    "import numpy as np\n",
    "import joblib\n",
    "from sklearn.linear_model import LogisticRegression\n",
    "from sklearn.ensemble import RandomForestClassifier\n",
    "from sklearn.model_selection import cross_val_score\n",
    "from sklearn import metrics\n",
    "from sklearn.model_selection import GridSearchCV\n",
    "import matplotlib.pyplot as plt\n",
    "import pandas as pd\n",
    "import seaborn as sns\n",
    "from sklearn.metrics import classification_report"
   ]
  },
  {
   "cell_type": "code",
   "execution_count": 2,
   "id": "c70ac79a-ed88-489b-9b41-54474c7b47d3",
   "metadata": {},
   "outputs": [],
   "source": [
    "#load prepared dataset from notebook\n",
    "loan_prepared = np.loadtxt('loan_prepared.txt')\n",
    "loan_labels = np.loadtxt('loan_labels.txt')"
   ]
  },
  {
   "cell_type": "code",
   "execution_count": 3,
   "id": "a83367b0-f10d-434e-8d65-0ef220cb99f1",
   "metadata": {},
   "outputs": [],
   "source": [
    "#load logistic regression model\n",
    "log_reg = LogisticRegression()"
   ]
  },
  {
   "cell_type": "code",
   "execution_count": 4,
   "id": "93fb3077-c537-410b-8159-9cc4c601867d",
   "metadata": {},
   "outputs": [
    {
     "data": {
      "text/plain": [
       "LogisticRegression()"
      ]
     },
     "execution_count": 4,
     "metadata": {},
     "output_type": "execute_result"
    }
   ],
   "source": [
    "#fit model onto data\n",
    "log_reg.fit(loan_prepared, loan_labels)"
   ]
  },
  {
   "cell_type": "code",
   "execution_count": 5,
   "id": "6b92f3eb-d1ce-47f9-b27a-3588e79fab96",
   "metadata": {},
   "outputs": [
    {
     "data": {
      "text/plain": [
       "array([0.9511811 , 0.94201747, 0.94342629, 0.93596838, 0.93196203,\n",
       "       0.93970243, 0.94126984, 0.94360604, 0.94210944, 0.94200627])"
      ]
     },
     "execution_count": 5,
     "metadata": {},
     "output_type": "execute_result"
    }
   ],
   "source": [
    "#calculate scores of predictions using cross validation\n",
    "loan_predictions = log_reg.predict(loan_prepared)\n",
    "scores = cross_val_score(log_reg, loan_prepared, loan_labels, cv=10, scoring=\"f1\")\n",
    "scores"
   ]
  },
  {
   "cell_type": "code",
   "execution_count": 6,
   "id": "b4b0b42c-08dd-44e9-bea3-e6c776492f2b",
   "metadata": {},
   "outputs": [
    {
     "name": "stdout",
     "output_type": "stream",
     "text": [
      "f1 score:  0.9413249288050534\n"
     ]
    }
   ],
   "source": [
    "#f1 score mean\n",
    "print(\"f1 score: \", scores.mean())"
   ]
  },
  {
   "cell_type": "code",
   "execution_count": 7,
   "id": "b5c90978-7272-4a5f-8ffe-3fc034f220fd",
   "metadata": {},
   "outputs": [
    {
     "data": {
      "text/plain": [
       "<AxesSubplot:>"
      ]
     },
     "execution_count": 7,
     "metadata": {},
     "output_type": "execute_result"
    },
    {
     "data": {
      "image/png": "[encoded data removed]",
      "text/plain": [
       "<Figure size 432x288 with 2 Axes>"
      ]
     },
     "metadata": {
      "needs_background": "light"
     },
     "output_type": "display_data"
    }
   ],
   "source": [
    "#visualize score\n",
    "clf_report = classification_report(y_true=loan_labels,\n",
    "                                   y_pred=loan_predictions,\n",
    "                                   target_names=['Not Paid','Paid'],\n",
    "                                   output_dict=True)\n",
    "sns.heatmap(pd.DataFrame(clf_report).iloc[:-1, :].T, vmin=0.4, vmax=1, annot=True)"
   ]
  },
  {
   "cell_type": "markdown",
   "id": "52b38d9f-4168-4908-9bcf-72c5f2c79f3d",
   "metadata": {},
   "source": [
    "---"
   ]
  },
  {
   "cell_type": "markdown",
   "id": "345ee72b-938b-486f-864d-0d9ae7b404ae",
   "metadata": {},
   "source": [
    "## Random Forest Classifier"
   ]
  },
  {
   "cell_type": "code",
   "execution_count": 8,
   "id": "29ec4d5a-1a8a-451b-a823-a5bbee2a93c7",
   "metadata": {},
   "outputs": [],
   "source": [
    "#load random forest classifier model\n",
    "rfc = RandomForestClassifier(n_estimators=100, max_features='sqrt')"
   ]
  },
  {
   "cell_type": "code",
   "execution_count": 9,
   "id": "c89f2a9d-37b8-42d9-ae6b-f2bbedf52a11",
   "metadata": {},
   "outputs": [
    {
     "data": {
      "text/plain": [
       "RandomForestClassifier(max_features='sqrt')"
      ]
     },
     "execution_count": 9,
     "metadata": {},
     "output_type": "execute_result"
    }
   ],
   "source": [
    "#fit model onto data\n",
    "rfc.fit(loan_prepared, loan_labels)"
   ]
  },
  {
   "cell_type": "code",
   "execution_count": 10,
   "id": "77cb5f63-599f-400a-be7d-69dc2cf8593b",
   "metadata": {},
   "outputs": [
    {
     "data": {
      "text/plain": [
       "array([0.98795181, 0.99194847, 0.99512987, 0.99514563, 0.99030695,\n",
       "       0.99193548, 0.99190939, 0.99756691, 0.99353796, 0.99112187])"
      ]
     },
     "execution_count": 10,
     "metadata": {},
     "output_type": "execute_result"
    }
   ],
   "source": [
    "#calculate scores of predcitions using cross validation\n",
    "loan_predictions = rfc.predict(loan_prepared)\n",
    "scores = cross_val_score(rfc, loan_prepared, loan_labels, cv=10, scoring=\"f1\")\n",
    "scores"
   ]
  },
  {
   "cell_type": "code",
   "execution_count": 11,
   "id": "e1b926a3-ae05-4185-b216-2376d66540ba",
   "metadata": {},
   "outputs": [
    {
     "data": {
      "text/plain": [
       "0.9926554341220809"
      ]
     },
     "execution_count": 11,
     "metadata": {},
     "output_type": "execute_result"
    }
   ],
   "source": [
    "#f1 score mean\n",
    "scores.mean()"
   ]
  },
  {
   "cell_type": "code",
   "execution_count": 12,
   "id": "238e9d23-3d89-4e9d-89ce-d8c86bd97435",
   "metadata": {},
   "outputs": [
    {
     "name": "stdout",
     "output_type": "stream",
     "text": [
      "              precision    recall  f1-score   support\n",
      "\n",
      "         0.0       1.00      1.00      1.00      1496\n",
      "         1.0       1.00      1.00      1.00      6166\n",
      "\n",
      "    accuracy                           1.00      7662\n",
      "   macro avg       1.00      1.00      1.00      7662\n",
      "weighted avg       1.00      1.00      1.00      7662\n",
      "\n"
     ]
    }
   ],
   "source": [
    "print(metrics.classification_report(loan_labels, loan_predictions))"
   ]
  },
  {
   "cell_type": "code",
   "execution_count": 13,
   "id": "6ce7f51f-deba-4a2c-b0ca-c620bf9239b8",
   "metadata": {},
   "outputs": [
    {
     "data": {
      "text/plain": [
       "GridSearchCV(cv=10, estimator=RandomForestClassifier(max_features='sqrt'),\n",
       "             param_grid={'max_features': ['sqrt', 'log2'],\n",
       "                         'n_estimators': [100, 150, 200]},\n",
       "             scoring='f1')"
      ]
     },
     "execution_count": 13,
     "metadata": {},
     "output_type": "execute_result"
    }
   ],
   "source": [
    "#tune hyperparameters using grid search\n",
    "param_grid = {'n_estimators': [100, 150, 200],'max_features': ['sqrt', 'log2']}\n",
    "grid_search = GridSearchCV(estimator=rfc, param_grid=param_grid, cv= 10, scoring=\"f1\")\n",
    "grid_search.fit(loan_prepared, loan_labels)"
   ]
  },
  {
   "cell_type": "code",
   "execution_count": 14,
   "id": "1f0e14f8-0279-43fc-b83a-cf9e6ef5394f",
   "metadata": {},
   "outputs": [
    {
     "data": {
      "text/plain": [
       "{'max_features': 'log2', 'n_estimators': 150}"
      ]
     },
     "execution_count": 14,
     "metadata": {},
     "output_type": "execute_result"
    }
   ],
   "source": [
    "#find best hyperparameters\n",
    "grid_search.best_params_"
   ]
  },
  {
   "cell_type": "code",
   "execution_count": 15,
   "id": "0556f4d0-1d50-4416-b8cf-05058ab98ebd",
   "metadata": {},
   "outputs": [
    {
     "name": "stdout",
     "output_type": "stream",
     "text": [
      "f1 score:  0.9928146497391666\n"
     ]
    }
   ],
   "source": [
    "#mean f1 score after tuning\n",
    "print(\"f1 score: \", grid_search.cv_results_['mean_test_score'].max())"
   ]
  },
  {
   "cell_type": "code",
   "execution_count": 16,
   "id": "28f8016b-fa16-4f9c-8fb0-edf93fa4f69f",
   "metadata": {},
   "outputs": [
    {
     "data": {
      "text/plain": [
       "<AxesSubplot:>"
      ]
     },
     "execution_count": 16,
     "metadata": {},
     "output_type": "execute_result"
    },
    {
     "data": {
      "image/png": "[encoded data removed]",
      "text/plain": [
       "<Figure size 432x288 with 2 Axes>"
      ]
     },
     "metadata": {
      "needs_background": "light"
     },
     "output_type": "display_data"
    }
   ],
   "source": [
    "#visualize score\n",
    "clf_report = classification_report(y_true=loan_labels,\n",
    "                                   y_pred=loan_predictions,\n",
    "                                   target_names=['Not Paid','Paid'],\n",
    "                                   output_dict=True)\n",
    "sns.heatmap(pd.DataFrame(clf_report).iloc[:-1, :].T, vmin=0.4, vmax=1, annot=True)"
   ]
  },
  {
   "cell_type": "markdown",
   "id": "5511842e-9b47-4159-ae32-0c695f6178d3",
   "metadata": {},
   "source": [
    "---"
   ]
  },
  {
   "cell_type": "markdown",
   "id": "de9e1821-fa8b-4104-bfc4-699e41607973",
   "metadata": {},
   "source": [
    "## Scores from Test Set"
   ]
  },
  {
   "cell_type": "code",
   "execution_count": 17,
   "id": "f627e47d-1c7b-4706-8601-e1950e780c28",
   "metadata": {},
   "outputs": [],
   "source": [
    "#use test set\n",
    "test_features = np.loadtxt('test_features.txt')\n",
    "test_labels = np.loadtxt('test_labels.txt')"
   ]
  },
  {
   "cell_type": "code",
   "execution_count": 18,
   "id": "95dcd842-949d-43bb-9c1e-43ba81f7f47f",
   "metadata": {},
   "outputs": [],
   "source": [
    "#random forest classifier with hyperparameter tuning\n",
    "rfc = RandomForestClassifier(n_estimators = 150, max_features='log2')"
   ]
  },
  {
   "cell_type": "code",
   "execution_count": 19,
   "id": "aa8918ce-29ae-4a7f-ba1e-4f1434aa7e69",
   "metadata": {},
   "outputs": [
    {
     "data": {
      "text/plain": [
       "RandomForestClassifier(max_features='log2', n_estimators=150)"
      ]
     },
     "execution_count": 19,
     "metadata": {},
     "output_type": "execute_result"
    }
   ],
   "source": [
    "#fit model onto data\n",
    "rfc.fit(test_features, test_labels)"
   ]
  },
  {
   "cell_type": "code",
   "execution_count": 20,
   "id": "4d574c5a-d6d5-4f32-951e-32aac4fbe705",
   "metadata": {},
   "outputs": [
    {
     "data": {
      "text/plain": [
       "array([0.99358974, 0.99041534, 0.97791798, 0.98717949, 0.99029126,\n",
       "       0.9903537 , 0.9903537 , 0.99350649, 0.99354839, 0.99676375])"
      ]
     },
     "execution_count": 20,
     "metadata": {},
     "output_type": "execute_result"
    }
   ],
   "source": [
    "#calculate scores of predictions using cross validation\n",
    "test_predictions = rfc.predict(test_features)\n",
    "scores = cross_val_score(rfc, test_features, test_labels, cv=10, scoring='f1')\n",
    "scores"
   ]
  },
  {
   "cell_type": "code",
   "execution_count": 21,
   "id": "b3b9c5da-2878-442b-a795-5e22d346bd47",
   "metadata": {},
   "outputs": [
    {
     "name": "stdout",
     "output_type": "stream",
     "text": [
      "f1 score:  0.9903919839587936\n"
     ]
    }
   ],
   "source": [
    "#f1 score mean\n",
    "print(\"f1 score: \", scores.mean())"
   ]
  },
  {
   "cell_type": "code",
   "execution_count": 22,
   "id": "20d9ac57-de0a-493f-b0f7-a2c63f1df8f1",
   "metadata": {},
   "outputs": [
    {
     "data": {
      "text/plain": [
       "<AxesSubplot:>"
      ]
     },
     "execution_count": 22,
     "metadata": {},
     "output_type": "execute_result"
    },
    {
     "data": {
      "image/png": "[encoded data removed]",
      "text/plain": [
       "<Figure size 432x288 with 2 Axes>"
      ]
     },
     "metadata": {
      "needs_background": "light"
     },
     "output_type": "display_data"
    }
   ],
   "source": [
    "#visualize score\n",
    "clf_report = classification_report(y_true=test_labels,\n",
    "                                   y_pred=test_predictions,\n",
    "                                   target_names=['Not Paid','Paid'],\n",
    "                                   output_dict=True)\n",
    "sns.heatmap(pd.DataFrame(clf_report).iloc[:-1, :].T, vmin=0.4,vmax=1, annot=True)"
   ]
  }
 ],
 "metadata": {
  "kernelspec": {
   "display_name": "Python 3 (ipykernel)",
   "language": "python",
   "name": "python3"
  },
  "language_info": {
   "codemirror_mode": {
    "name": "ipython",
    "version": 3
   },
   "file_extension": ".py",
   "mimetype": "text/x-python",
   "name": "python",
   "nbconvert_exporter": "python",
   "pygments_lexer": "ipython3",
   "version": "3.8.11"
  }
 },
 "nbformat": 4,
 "nbformat_minor": 5
}
