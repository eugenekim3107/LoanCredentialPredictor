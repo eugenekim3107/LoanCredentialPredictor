{
 "cells": [
  {
   "cell_type": "markdown",
   "id": "88b152e8-b6c5-4504-b2a9-5aa6669cf7ec",
   "metadata": {},
   "source": [
    "# Model Selection and Evaluation"
   ]
  },
  {
   "cell_type": "markdown",
   "id": "86520e8d-fbc0-4b70-8e7c-c3ae14a7c479",
   "metadata": {},
   "source": [
    "---"
   ]
  },
  {
   "cell_type": "markdown",
   "id": "5bf95ee9-b4e8-4456-962c-3efb78bf5b77",
   "metadata": {},
   "source": [
    "## Logistic Regression"
   ]
  },
  {
   "cell_type": "code",
   "execution_count": 1,
   "id": "6899da1f-0ad8-4abb-ae57-aa78bef08ea9",
   "metadata": {},
   "outputs": [],
   "source": [
    "import numpy as np\n",
    "import joblib\n",
    "from sklearn.linear_model import LogisticRegression\n",
    "from sklearn.ensemble import RandomForestClassifier\n",
    "from sklearn.model_selection import cross_val_score\n",
    "from sklearn.model_selection import GridSearchCV"
   ]
  },
  {
   "cell_type": "code",
   "execution_count": 2,
   "id": "c70ac79a-ed88-489b-9b41-54474c7b47d3",
   "metadata": {},
   "outputs": [],
   "source": [
    "#load prepared dataset from notebook\n",
    "loan_prepared = np.loadtxt('loan_prepared.txt')\n",
    "loan_labels = np.loadtxt('loan_labels.txt')"
   ]
  },
  {
   "cell_type": "code",
   "execution_count": 3,
   "id": "a83367b0-f10d-434e-8d65-0ef220cb99f1",
   "metadata": {},
   "outputs": [],
   "source": [
    "#load logistic regression model\n",
    "log_reg = LogisticRegression()"
   ]
  },
  {
   "cell_type": "code",
   "execution_count": 4,
   "id": "93fb3077-c537-410b-8159-9cc4c601867d",
   "metadata": {},
   "outputs": [
    {
     "data": {
      "text/plain": [
       "LogisticRegression()"
      ]
     },
     "execution_count": 4,
     "metadata": {},
     "output_type": "execute_result"
    }
   ],
   "source": [
    "#fit model onto data\n",
    "log_reg.fit(loan_prepared, loan_labels)"
   ]
  },
  {
   "cell_type": "code",
   "execution_count": 5,
   "id": "6b92f3eb-d1ce-47f9-b27a-3588e79fab96",
   "metadata": {},
   "outputs": [],
   "source": [
    "#make predictions\n",
    "loan_predictions = log_reg.predict(loan_prepared)"
   ]
  },
  {
   "cell_type": "code",
   "execution_count": 6,
   "id": "f44b6e97-2be1-4305-b487-0e84aad87fe9",
   "metadata": {},
   "outputs": [],
   "source": [
    "#create scoring metric for training set\n",
    "def train_scores(model):\n",
    "    for scores in ['f1','precision','recall','accuracy']:\n",
    "        cvs = cross_val_score(model, loan_prepared, loan_labels, scoring=scores, cv=10).mean()\n",
    "        print(scores + \" : \"+ str(cvs))"
   ]
  },
  {
   "cell_type": "code",
   "execution_count": 7,
   "id": "afac83fa-fd66-466f-a781-68e0fe19c5f5",
   "metadata": {},
   "outputs": [
    {
     "name": "stdout",
     "output_type": "stream",
     "text": [
      "f1 : 0.941672046632743\n",
      "precision : 0.9184927762967652\n",
      "recall : 0.9661058957250205\n",
      "accuracy : 0.9036781601369823\n"
     ]
    }
   ],
   "source": [
    "#calculate scores of predictions using cross validation\n",
    "train_scores(log_reg)"
   ]
  },
  {
   "cell_type": "markdown",
   "id": "52b38d9f-4168-4908-9bcf-72c5f2c79f3d",
   "metadata": {},
   "source": [
    "---"
   ]
  },
  {
   "cell_type": "markdown",
   "id": "345ee72b-938b-486f-864d-0d9ae7b404ae",
   "metadata": {},
   "source": [
    "## Random Forest Classifier"
   ]
  },
  {
   "cell_type": "code",
   "execution_count": 8,
   "id": "29ec4d5a-1a8a-451b-a823-a5bbee2a93c7",
   "metadata": {},
   "outputs": [],
   "source": [
    "#load random forest classifier model\n",
    "rfc = RandomForestClassifier(n_estimators=100, max_features='sqrt')"
   ]
  },
  {
   "cell_type": "code",
   "execution_count": 9,
   "id": "c89f2a9d-37b8-42d9-ae6b-f2bbedf52a11",
   "metadata": {},
   "outputs": [
    {
     "data": {
      "text/plain": [
       "RandomForestClassifier(max_features='sqrt')"
      ]
     },
     "execution_count": 9,
     "metadata": {},
     "output_type": "execute_result"
    }
   ],
   "source": [
    "#fit model onto data\n",
    "rfc.fit(loan_prepared, loan_labels)"
   ]
  },
  {
   "cell_type": "code",
   "execution_count": 10,
   "id": "4f9e8be1-be57-4f0c-8d8e-4e5474519f32",
   "metadata": {},
   "outputs": [],
   "source": [
    "#make predictions\n",
    "loan_predictions = rfc.predict(loan_prepared)"
   ]
  },
  {
   "cell_type": "code",
   "execution_count": 11,
   "id": "77cb5f63-599f-400a-be7d-69dc2cf8593b",
   "metadata": {},
   "outputs": [
    {
     "name": "stdout",
     "output_type": "stream",
     "text": [
      "f1 : 0.9924942496071786\n",
      "precision : 0.9890811828489869\n",
      "recall : 0.996594329495464\n",
      "accuracy : 0.9874716180840888\n"
     ]
    }
   ],
   "source": [
    "#calculate scores of predictions using cross validation\n",
    "train_scores(rfc)"
   ]
  },
  {
   "cell_type": "code",
   "execution_count": 12,
   "id": "6ce7f51f-deba-4a2c-b0ca-c620bf9239b8",
   "metadata": {},
   "outputs": [
    {
     "data": {
      "text/plain": [
       "GridSearchCV(cv=10, estimator=RandomForestClassifier(max_features='sqrt'),\n",
       "             param_grid={'max_features': ['sqrt', 'log2'],\n",
       "                         'n_estimators': [100, 150, 200]},\n",
       "             scoring='f1')"
      ]
     },
     "execution_count": 12,
     "metadata": {},
     "output_type": "execute_result"
    }
   ],
   "source": [
    "#tune hyperparameters using grid search\n",
    "param_grid = {'n_estimators': [100, 150, 200],'max_features': ['sqrt', 'log2']}\n",
    "grid_search = GridSearchCV(estimator=rfc, param_grid=param_grid, cv= 10, scoring=\"f1\")\n",
    "grid_search.fit(loan_prepared, loan_labels)"
   ]
  },
  {
   "cell_type": "code",
   "execution_count": 13,
   "id": "1f0e14f8-0279-43fc-b83a-cf9e6ef5394f",
   "metadata": {},
   "outputs": [
    {
     "data": {
      "text/plain": [
       "{'max_features': 'log2', 'n_estimators': 150}"
      ]
     },
     "execution_count": 13,
     "metadata": {},
     "output_type": "execute_result"
    }
   ],
   "source": [
    "#find best hyperparameters\n",
    "grid_search.best_params_"
   ]
  },
  {
   "cell_type": "code",
   "execution_count": 14,
   "id": "0556f4d0-1d50-4416-b8cf-05058ab98ebd",
   "metadata": {},
   "outputs": [
    {
     "name": "stdout",
     "output_type": "stream",
     "text": [
      "f1 : 0.9928160731114899\n"
     ]
    }
   ],
   "source": [
    "#mean f1 score after tuning\n",
    "print(\"f1 :\", grid_search.cv_results_['mean_test_score'].max())"
   ]
  },
  {
   "cell_type": "markdown",
   "id": "5511842e-9b47-4159-ae32-0c695f6178d3",
   "metadata": {},
   "source": [
    "---"
   ]
  },
  {
   "cell_type": "markdown",
   "id": "de9e1821-fa8b-4104-bfc4-699e41607973",
   "metadata": {},
   "source": [
    "## Scores from Test Set"
   ]
  },
  {
   "cell_type": "code",
   "execution_count": 15,
   "id": "f627e47d-1c7b-4706-8601-e1950e780c28",
   "metadata": {},
   "outputs": [],
   "source": [
    "#use test set\n",
    "test_features = np.loadtxt('test_features.txt')\n",
    "test_labels = np.loadtxt('test_labels.txt')"
   ]
  },
  {
   "cell_type": "code",
   "execution_count": 16,
   "id": "95dcd842-949d-43bb-9c1e-43ba81f7f47f",
   "metadata": {},
   "outputs": [],
   "source": [
    "#random forest classifier with hyperparameter tuning\n",
    "rfc = RandomForestClassifier(n_estimators = 150, max_features='log2')"
   ]
  },
  {
   "cell_type": "code",
   "execution_count": 17,
   "id": "aa8918ce-29ae-4a7f-ba1e-4f1434aa7e69",
   "metadata": {},
   "outputs": [
    {
     "data": {
      "text/plain": [
       "RandomForestClassifier(max_features='log2', n_estimators=150)"
      ]
     },
     "execution_count": 17,
     "metadata": {},
     "output_type": "execute_result"
    }
   ],
   "source": [
    "#fit model onto data\n",
    "rfc.fit(test_features, test_labels)"
   ]
  },
  {
   "cell_type": "code",
   "execution_count": 18,
   "id": "4d574c5a-d6d5-4f32-951e-32aac4fbe705",
   "metadata": {},
   "outputs": [],
   "source": [
    "#make predictions\n",
    "test_predictions = rfc.predict(test_features)"
   ]
  },
  {
   "cell_type": "code",
   "execution_count": 19,
   "id": "ce91d4d4-af0f-4daa-b7c7-cf24c03693ff",
   "metadata": {},
   "outputs": [],
   "source": [
    "#create scoring metric for testing set\n",
    "def test_scores(model):\n",
    "    for scores in ['f1','precision','recall','accuracy']:\n",
    "        cvs = cross_val_score(model, test_features, test_labels, scoring=scores, cv=10).mean()\n",
    "        print(scores + \" : \"+ str(cvs))"
   ]
  },
  {
   "cell_type": "code",
   "execution_count": 20,
   "id": "b3b9c5da-2878-442b-a795-5e22d346bd47",
   "metadata": {},
   "outputs": [
    {
     "name": "stdout",
     "output_type": "stream",
     "text": [
      "f1 : 0.9903982612184375\n",
      "precision : 0.9816415679642102\n",
      "recall : 0.9987054880603268\n",
      "accuracy : 0.9843559118673648\n"
     ]
    }
   ],
   "source": [
    "#calculate scores of predictions using cross validation\n",
    "test_scores(rfc)"
   ]
  }
 ],
 "metadata": {
  "kernelspec": {
   "display_name": "Python 3 (ipykernel)",
   "language": "python",
   "name": "python3"
  },
  "language_info": {
   "codemirror_mode": {
    "name": "ipython",
    "version": 3
   },
   "file_extension": ".py",
   "mimetype": "text/x-python",
   "name": "python",
   "nbconvert_exporter": "python",
   "pygments_lexer": "ipython3",
   "version": "3.8.11"
  }
 },
 "nbformat": 4,
 "nbformat_minor": 5
}
